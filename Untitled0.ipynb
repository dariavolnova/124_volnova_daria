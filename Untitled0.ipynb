{
  "nbformat": 4,
  "nbformat_minor": 0,
  "metadata": {
    "colab": {
      "provenance": [],
      "authorship_tag": "ABX9TyNDHoFfKQ8fbW4uGOv9tDMt",
      "include_colab_link": true
    },
    "kernelspec": {
      "name": "python3",
      "display_name": "Python 3"
    },
    "language_info": {
      "name": "python"
    }
  },
  "cells": [
    {
      "cell_type": "markdown",
      "metadata": {
        "id": "view-in-github",
        "colab_type": "text"
      },
      "source": [
        "<a href=\"https://colab.research.google.com/github/dariavolnova/124_volnova_daria/blob/main/Untitled0.ipynb\" target=\"_parent\"><img src=\"https://colab.research.google.com/assets/colab-badge.svg\" alt=\"Open In Colab\"/></a>"
      ]
    },
    {
      "cell_type": "code",
      "execution_count": 3,
      "metadata": {
        "colab": {
          "base_uri": "https://localhost:8080/"
        },
        "id": "VBsl5ZsKXcyW",
        "outputId": "89b9c776-6e8e-40e7-ee74-f8925bbe1894"
      },
      "outputs": [
        {
          "output_type": "stream",
          "name": "stdout",
          "text": [
            "55007\n",
            "      Marks    GP Grade  Unnamed: 3          Unnamed: 4\n",
            "0          -  0.0     F      -0.003     Zero point zero\n",
            "1          0  0.0     F      -0.003     Zero point zero\n",
            "2         *1  0.0     F      -0.002     Zero point zero\n",
            "3         *2  0.0     F      -0.001     Zero point zero\n",
            "4         *3  0.0     F       0.000     Zero point zero\n",
            "...      ...  ...   ...         ...                 ...\n",
            "55002    NaN  NaN   NaN      99.960  Hundred point zero\n",
            "55003    NaN  NaN   NaN      99.970  Hundred point zero\n",
            "55004    NaN  NaN   NaN      99.980  Hundred point zero\n",
            "55005    NaN  NaN   NaN      99.990  Hundred point zero\n",
            "55006    NaN  NaN   NaN     100.000  Hundred point zero\n",
            "\n",
            "[55007 rows x 5 columns]\n"
          ]
        },
        {
          "output_type": "stream",
          "name": "stderr",
          "text": [
            "<ipython-input-3-6b0feca04297>:16: FutureWarning: The default value of numeric_only in DataFrame.mean is deprecated. In a future version, it will default to False. In addition, specifying 'numeric_only=None' is deprecated. Select only valid columns or specify the value of numeric_only to silence this warning.\n",
            "  df.mean()\n",
            "<ipython-input-3-6b0feca04297>:18: FutureWarning: The default value of numeric_only in DataFrame.max is deprecated. In a future version, it will default to False. In addition, specifying 'numeric_only=None' is deprecated. Select only valid columns or specify the value of numeric_only to silence this warning.\n",
            "  df.max()\n",
            "<ipython-input-3-6b0feca04297>:20: FutureWarning: The default value of numeric_only in DataFrame.min is deprecated. In a future version, it will default to False. In addition, specifying 'numeric_only=None' is deprecated. Select only valid columns or specify the value of numeric_only to silence this warning.\n",
            "  df.min()\n"
          ]
        },
        {
          "output_type": "execute_result",
          "data": {
            "text/plain": [
              "GP            0.000\n",
              "Unnamed: 3   -0.003\n",
              "dtype: float64"
            ]
          },
          "metadata": {},
          "execution_count": 3
        }
      ],
      "source": [
        "df = pd.read_excel(\"/content/Univeristy_Results.xls\")\n",
        "\n",
        "num_rows = df.shape[0]\n",
        "print(num_rows)\n",
        "\n",
        "df.head()\n",
        "\n",
        "print(df)\n",
        "\n",
        "# df.dtypes\n",
        "\n",
        "df.columns\n",
        "\n",
        "df.iloc[0]\n",
        "\n",
        "df.mean()\n",
        "\n",
        "df.max()\n",
        "\n",
        "df.min()"
      ]
    }
  ]
}